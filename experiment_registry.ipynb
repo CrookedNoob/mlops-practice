{
 "cells": [
  {
   "cell_type": "code",
   "execution_count": 10,
   "metadata": {},
   "outputs": [],
   "source": [
    "from mlflow.tracking import MlflowClient\n",
    "from mlflow.entities import ViewType\n",
    "\n",
    "\n",
    "MLFLOW_TRACKING_URI = \"sqlite:///mlflow.db\""
   ]
  },
  {
   "cell_type": "code",
   "execution_count": 14,
   "metadata": {},
   "outputs": [],
   "source": [
    "client.delete_experiment(\"4\")"
   ]
  },
  {
   "cell_type": "code",
   "execution_count": 18,
   "metadata": {},
   "outputs": [
    {
     "data": {
      "text/plain": [
       "[<Experiment: artifact_location='/home/ubuntu/mlops/mlruns/3', creation_time=1681273869996, experiment_id='3', last_update_time=1681273869996, lifecycle_stage='active', name='nyc-taxi-experiment-2', tags={}>,\n",
       " <Experiment: artifact_location='/home/ubuntu/mlops/mlruns/2', creation_time=1681187419970, experiment_id='2', last_update_time=1681187419970, lifecycle_stage='active', name='nyc-taxi-experiment-1', tags={}>]"
      ]
     },
     "execution_count": 18,
     "metadata": {},
     "output_type": "execute_result"
    }
   ],
   "source": [
    "client.search_experiments()"
   ]
  },
  {
   "cell_type": "code",
   "execution_count": 27,
   "metadata": {},
   "outputs": [
    {
     "data": {
      "text/plain": [
       "<Run: data=<RunData: metrics={'rmse': 21.330564452067502,\n",
       " 'training_mean_absolute_error': 1.2663162579498975e-13,\n",
       " 'training_mean_squared_error': 3.132248556025532e-23,\n",
       " 'training_r2_score': 1.0,\n",
       " 'training_root_mean_squared_error': 5.5966494941398035e-12,\n",
       " 'training_score': 1.0}, params={'bootstrap': 'False',\n",
       " 'ccp_alpha': '0.0',\n",
       " 'criterion': 'squared_error',\n",
       " 'max_depth': 'None',\n",
       " 'max_features': '1.0',\n",
       " 'max_leaf_nodes': 'None',\n",
       " 'max_samples': 'None',\n",
       " 'min_impurity_decrease': '0.0',\n",
       " 'min_samples_leaf': '1',\n",
       " 'min_samples_split': '2',\n",
       " 'min_weight_fraction_leaf': '0.0',\n",
       " 'n_estimators': '100',\n",
       " 'n_jobs': 'None',\n",
       " 'oob_score': 'False',\n",
       " 'random_state': 'None',\n",
       " 'train-data-path': './dataset/green_tripdata_2022-10.parquet',\n",
       " 'val-data-path': './dataset/green_tripdata_2022-11.parquet',\n",
       " 'verbose': '0',\n",
       " 'warm_start': 'False'}, tags={'data_scientist': 'Soumyadip Majumder',\n",
       " 'estimator_class': 'sklearn.ensemble._forest.ExtraTreesRegressor',\n",
       " 'estimator_name': 'ExtraTreesRegressor',\n",
       " 'mlflow.log-model.history': '[{\"run_id\": \"b0d56310fbe24178a254c4d3fcfd4700\", '\n",
       "                             '\"artifact_path\": \"model\", \"utc_time_created\": '\n",
       "                             '\"2023-04-12 03:41:54.118407\", \"flavors\": '\n",
       "                             '{\"python_function\": {\"model_path\": \"model.pkl\", '\n",
       "                             '\"predict_fn\": \"predict\", \"loader_module\": '\n",
       "                             '\"mlflow.sklearn\", \"python_version\": \"3.10.9\", '\n",
       "                             '\"env\": {\"conda\": \"conda.yaml\", \"virtualenv\": '\n",
       "                             '\"python_env.yaml\"}}, \"sklearn\": '\n",
       "                             '{\"pickled_model\": \"model.pkl\", '\n",
       "                             '\"sklearn_version\": \"1.2.1\", '\n",
       "                             '\"serialization_format\": \"cloudpickle\", \"code\": '\n",
       "                             'null}}, \"model_uuid\": '\n",
       "                             '\"9efff922f6d74eb1af8b0b5f802311cb\", '\n",
       "                             '\"mlflow_version\": \"2.2.2\", \"signature\": '\n",
       "                             '{\"inputs\": \"[{\\\\\"type\\\\\": \\\\\"tensor\\\\\", '\n",
       "                             '\\\\\"tensor-spec\\\\\": {\\\\\"dtype\\\\\": \\\\\"float64\\\\\", '\n",
       "                             '\\\\\"shape\\\\\": [-1, 6771]}}]\", \"outputs\": '\n",
       "                             '\"[{\\\\\"type\\\\\": \\\\\"tensor\\\\\", \\\\\"tensor-spec\\\\\": '\n",
       "                             '{\\\\\"dtype\\\\\": \\\\\"float64\\\\\", \\\\\"shape\\\\\": '\n",
       "                             '[-1]}}]\"}}, {\"run_id\": '\n",
       "                             '\"b0d56310fbe24178a254c4d3fcfd4700\", '\n",
       "                             '\"artifact_path\": \"models_nyc_dur_pred\", '\n",
       "                             '\"utc_time_created\": \"2023-04-12 '\n",
       "                             '03:41:57.944772\", \"flavors\": {\"python_function\": '\n",
       "                             '{\"model_path\": \"model.pkl\", \"predict_fn\": '\n",
       "                             '\"predict\", \"loader_module\": \"mlflow.sklearn\", '\n",
       "                             '\"python_version\": \"3.10.9\", \"env\": {\"conda\": '\n",
       "                             '\"conda.yaml\", \"virtualenv\": \"python_env.yaml\"}}, '\n",
       "                             '\"sklearn\": {\"pickled_model\": \"model.pkl\", '\n",
       "                             '\"sklearn_version\": \"1.2.1\", '\n",
       "                             '\"serialization_format\": \"cloudpickle\", \"code\": '\n",
       "                             'null}}, \"model_uuid\": '\n",
       "                             '\"5c76d74c7b3f4214af8c0df62e7c7eea\", '\n",
       "                             '\"mlflow_version\": \"2.2.2\"}]',\n",
       " 'mlflow.runName': 'gaudy-roo-222',\n",
       " 'mlflow.source.git.commit': '872850417a1618b1adbcbca3576c6ac015a71a8f',\n",
       " 'mlflow.source.name': '2_experiment_tracking/main.py',\n",
       " 'mlflow.source.type': 'LOCAL',\n",
       " 'mlflow.user': 'ubuntu'}>, info=<RunInfo: artifact_uri='/home/ubuntu/mlops/mlruns/2/b0d56310fbe24178a254c4d3fcfd4700/artifacts', end_time=1681270920411, experiment_id='2', lifecycle_stage='active', run_id='b0d56310fbe24178a254c4d3fcfd4700', run_name='gaudy-roo-222', run_uuid='b0d56310fbe24178a254c4d3fcfd4700', start_time=1681270754452, status='FINISHED', user_id='ubuntu'>>"
      ]
     },
     "execution_count": 27,
     "metadata": {},
     "output_type": "execute_result"
    }
   ],
   "source": [
    "client.search_runs(experiment_ids=2)[1]"
   ]
  },
  {
   "cell_type": "code",
   "execution_count": 23,
   "metadata": {},
   "outputs": [],
   "source": [
    "runs = client.search_runs(\n",
    "                    experiment_ids=\"2\",\n",
    "                    filter_string=\"metrics.rmse < 25\",\n",
    "                    run_view_type=ViewType.ACTIVE_ONLY,\n",
    "                    max_results=5,\n",
    "                    order_by=[\"metrics.rmse ASC\"]\n",
    ")"
   ]
  },
  {
   "cell_type": "code",
   "execution_count": 33,
   "metadata": {},
   "outputs": [
    {
     "name": "stdout",
     "output_type": "stream",
     "text": [
      "run id: 443595f2244e486fb7bed5bd3f3001cd, rmse: 4.6840243946542605e-05:.4f\n",
      "run id: b0d56310fbe24178a254c4d3fcfd4700, rmse: 21.330564452067502:.4f\n"
     ]
    }
   ],
   "source": [
    "for run in runs:\n",
    "    print(f\"run id: {run.info.run_id}, rmse: {run.data.metrics['rmse']}:.4f\")"
   ]
  },
  {
   "cell_type": "code",
   "execution_count": 41,
   "metadata": {},
   "outputs": [],
   "source": [
    "import mlflow\n",
    "\n",
    "mlflow.set_tracking_uri(MLFLOW_TRACKING_URI)"
   ]
  },
  {
   "cell_type": "code",
   "execution_count": 43,
   "metadata": {},
   "outputs": [
    {
     "name": "stderr",
     "output_type": "stream",
     "text": [
      "Registered model 'nyc-taxi-regressor' already exists. Creating a new version of this model...\n",
      "2023/04/12 05:25:37 INFO mlflow.tracking._model_registry.client: Waiting up to 300 seconds for model version to finish creation.                     Model name: nyc-taxi-regressor, version 6\n",
      "Created version '6' of model 'nyc-taxi-regressor'.\n"
     ]
    },
    {
     "data": {
      "text/plain": [
       "<ModelVersion: creation_timestamp=1681277137803, current_stage='None', description=None, last_updated_timestamp=1681277137803, name='nyc-taxi-regressor', run_id='443595f2244e486fb7bed5bd3f3001cd', run_link=None, source='/home/ubuntu/mlops/mlruns/2/443595f2244e486fb7bed5bd3f3001cd/artifacts/model', status='READY', status_message=None, tags={}, user_id=None, version=6>"
      ]
     },
     "execution_count": 43,
     "metadata": {},
     "output_type": "execute_result"
    }
   ],
   "source": [
    "run_id = \"443595f2244e486fb7bed5bd3f3001cd\"\n",
    "model_uri = f\"runs:/{run_id}/model\"\n",
    "mlflow.register_model(model_uri=model_uri, name=\"nyc-taxi-regressor\")"
   ]
  },
  {
   "cell_type": "code",
   "execution_count": 44,
   "metadata": {},
   "outputs": [
    {
     "name": "stdout",
     "output_type": "stream",
     "text": [
      "version: 6, stage: None\n",
      "version: 4, stage: Staging\n"
     ]
    }
   ],
   "source": [
    "model_name = \"nyc-taxi-regressor\"\n",
    "latest_versions = client.get_latest_versions(name=model_name)\n",
    "\n",
    "for version in latest_versions:\n",
    "    print(f\"version: {version.version}, stage: {version.current_stage}\")"
   ]
  },
  {
   "cell_type": "code",
   "execution_count": 46,
   "metadata": {},
   "outputs": [
    {
     "data": {
      "text/plain": [
       "<ModelVersion: creation_timestamp=1681277137803, current_stage='Staging', description=None, last_updated_timestamp=1681277247429, name='nyc-taxi-regressor', run_id='443595f2244e486fb7bed5bd3f3001cd', run_link=None, source='/home/ubuntu/mlops/mlruns/2/443595f2244e486fb7bed5bd3f3001cd/artifacts/model', status='READY', status_message=None, tags={}, user_id=None, version=6>"
      ]
     },
     "execution_count": 46,
     "metadata": {},
     "output_type": "execute_result"
    }
   ],
   "source": [
    "model_version = 4\n",
    "new_stage = \"Production\"\n",
    "client.transition_model_version_stage(\n",
    "    name=model_name,\n",
    "    version=model_version,\n",
    "    stage=new_stage,\n",
    "    archive_existing_versions=False\n",
    ")\n",
    "\n",
    "model_version = 6\n",
    "new_stage = \"Staging\"\n",
    "client.transition_model_version_stage(\n",
    "    name=model_name,\n",
    "    version=model_version,\n",
    "    stage=new_stage,\n",
    "    archive_existing_versions=False\n",
    ")"
   ]
  },
  {
   "cell_type": "code",
   "execution_count": 47,
   "metadata": {},
   "outputs": [
    {
     "data": {
      "text/plain": [
       "<ModelVersion: creation_timestamp=1681277137803, current_stage='Staging', description='The model version 6 was transitioned to Staging on 2023-04-12', last_updated_timestamp=1681277869696, name='nyc-taxi-regressor', run_id='443595f2244e486fb7bed5bd3f3001cd', run_link=None, source='/home/ubuntu/mlops/mlruns/2/443595f2244e486fb7bed5bd3f3001cd/artifacts/model', status='READY', status_message=None, tags={}, user_id=None, version=6>"
      ]
     },
     "execution_count": 47,
     "metadata": {},
     "output_type": "execute_result"
    }
   ],
   "source": [
    "from datetime import datetime\n",
    "\n",
    "date = datetime.today().date()\n",
    "client.update_model_version(\n",
    "    name=model_name,\n",
    "    version=model_version,\n",
    "    description=f\"The model version {model_version} was transitioned to {new_stage} on {date}\"\n",
    ")"
   ]
  },
  {
   "cell_type": "code",
   "execution_count": 30,
   "metadata": {},
   "outputs": [
    {
     "ename": "MissingConfigException",
     "evalue": "Yaml file '/home/ubuntu/mlops/mlruns/2/443595f2244e486fb7bed5bd3f3001cd/meta.yaml' does not exist.",
     "output_type": "error",
     "traceback": [
      "\u001b[0;31m---------------------------------------------------------------------------\u001b[0m",
      "\u001b[0;31mMissingConfigException\u001b[0m                    Traceback (most recent call last)",
      "Cell \u001b[0;32mIn[30], line 5\u001b[0m\n\u001b[1;32m      2\u001b[0m logged_model \u001b[39m=\u001b[39m \u001b[39m'\u001b[39m\u001b[39mruns:/443595f2244e486fb7bed5bd3f3001cd/models_nyc_dur_pred\u001b[39m\u001b[39m'\u001b[39m\n\u001b[1;32m      4\u001b[0m \u001b[39m# Load model as a PyFuncModel.\u001b[39;00m\n\u001b[0;32m----> 5\u001b[0m loaded_model \u001b[39m=\u001b[39m mlflow\u001b[39m.\u001b[39;49mpyfunc\u001b[39m.\u001b[39;49mload_model(logged_model)\n",
      "File \u001b[0;32m~/anaconda3/lib/python3.10/site-packages/mlflow/pyfunc/__init__.py:563\u001b[0m, in \u001b[0;36mload_model\u001b[0;34m(model_uri, suppress_warnings, dst_path)\u001b[0m\n\u001b[1;32m    535\u001b[0m \u001b[39mdef\u001b[39;00m \u001b[39mload_model\u001b[39m(\n\u001b[1;32m    536\u001b[0m     model_uri: \u001b[39mstr\u001b[39m,\n\u001b[1;32m    537\u001b[0m     suppress_warnings: \u001b[39mbool\u001b[39m \u001b[39m=\u001b[39m \u001b[39mFalse\u001b[39;00m,\n\u001b[1;32m    538\u001b[0m     dst_path: \u001b[39mstr\u001b[39m \u001b[39m=\u001b[39m \u001b[39mNone\u001b[39;00m,\n\u001b[1;32m    539\u001b[0m ) \u001b[39m-\u001b[39m\u001b[39m>\u001b[39m PyFuncModel:\n\u001b[1;32m    540\u001b[0m     \u001b[39m\"\"\"\u001b[39;00m\n\u001b[1;32m    541\u001b[0m \u001b[39m    Load a model stored in Python function format.\u001b[39;00m\n\u001b[1;32m    542\u001b[0m \n\u001b[0;32m   (...)\u001b[0m\n\u001b[1;32m    561\u001b[0m \u001b[39m                     path will be created.\u001b[39;00m\n\u001b[1;32m    562\u001b[0m \u001b[39m    \"\"\"\u001b[39;00m\n\u001b[0;32m--> 563\u001b[0m     local_path \u001b[39m=\u001b[39m _download_artifact_from_uri(artifact_uri\u001b[39m=\u001b[39;49mmodel_uri, output_path\u001b[39m=\u001b[39;49mdst_path)\n\u001b[1;32m    565\u001b[0m     \u001b[39mif\u001b[39;00m \u001b[39mnot\u001b[39;00m suppress_warnings:\n\u001b[1;32m    566\u001b[0m         _warn_dependency_requirement_mismatches(local_path)\n",
      "File \u001b[0;32m~/anaconda3/lib/python3.10/site-packages/mlflow/tracking/artifact_utils.py:100\u001b[0m, in \u001b[0;36m_download_artifact_from_uri\u001b[0;34m(artifact_uri, output_path)\u001b[0m\n\u001b[1;32m     94\u001b[0m \u001b[39m\"\"\"\u001b[39;00m\n\u001b[1;32m     95\u001b[0m \u001b[39m:param artifact_uri: The *absolute* URI of the artifact to download.\u001b[39;00m\n\u001b[1;32m     96\u001b[0m \u001b[39m:param output_path: The local filesystem path to which to download the artifact. If unspecified,\u001b[39;00m\n\u001b[1;32m     97\u001b[0m \u001b[39m                    a local output path will be created.\u001b[39;00m\n\u001b[1;32m     98\u001b[0m \u001b[39m\"\"\"\u001b[39;00m\n\u001b[1;32m     99\u001b[0m root_uri, artifact_path \u001b[39m=\u001b[39m _get_root_uri_and_artifact_path(artifact_uri)\n\u001b[0;32m--> 100\u001b[0m \u001b[39mreturn\u001b[39;00m get_artifact_repository(artifact_uri\u001b[39m=\u001b[39;49mroot_uri)\u001b[39m.\u001b[39mdownload_artifacts(\n\u001b[1;32m    101\u001b[0m     artifact_path\u001b[39m=\u001b[39martifact_path, dst_path\u001b[39m=\u001b[39moutput_path\n\u001b[1;32m    102\u001b[0m )\n",
      "File \u001b[0;32m~/anaconda3/lib/python3.10/site-packages/mlflow/store/artifact/artifact_repository_registry.py:106\u001b[0m, in \u001b[0;36mget_artifact_repository\u001b[0;34m(artifact_uri)\u001b[0m\n\u001b[1;32m     96\u001b[0m \u001b[39mdef\u001b[39;00m \u001b[39mget_artifact_repository\u001b[39m(artifact_uri):\n\u001b[1;32m     97\u001b[0m     \u001b[39m\"\"\"Get an artifact repository from the registry based on the scheme of artifact_uri\u001b[39;00m\n\u001b[1;32m     98\u001b[0m \n\u001b[1;32m     99\u001b[0m \u001b[39m    :param artifact_uri: The artifact store URI. This URI is used to select which artifact\u001b[39;00m\n\u001b[0;32m   (...)\u001b[0m\n\u001b[1;32m    104\u001b[0m \u001b[39m             requirements.\u001b[39;00m\n\u001b[1;32m    105\u001b[0m \u001b[39m    \"\"\"\u001b[39;00m\n\u001b[0;32m--> 106\u001b[0m     \u001b[39mreturn\u001b[39;00m _artifact_repository_registry\u001b[39m.\u001b[39;49mget_artifact_repository(artifact_uri)\n",
      "File \u001b[0;32m~/anaconda3/lib/python3.10/site-packages/mlflow/store/artifact/artifact_repository_registry.py:72\u001b[0m, in \u001b[0;36mArtifactRepositoryRegistry.get_artifact_repository\u001b[0;34m(self, artifact_uri)\u001b[0m\n\u001b[1;32m     65\u001b[0m \u001b[39mif\u001b[39;00m repository \u001b[39mis\u001b[39;00m \u001b[39mNone\u001b[39;00m:\n\u001b[1;32m     66\u001b[0m     \u001b[39mraise\u001b[39;00m MlflowException(\n\u001b[1;32m     67\u001b[0m         \u001b[39m\"\u001b[39m\u001b[39mCould not find a registered artifact repository for: \u001b[39m\u001b[39m{}\u001b[39;00m\u001b[39m. \u001b[39m\u001b[39m\"\u001b[39m\n\u001b[1;32m     68\u001b[0m         \u001b[39m\"\u001b[39m\u001b[39mCurrently registered schemes are: \u001b[39m\u001b[39m{}\u001b[39;00m\u001b[39m\"\u001b[39m\u001b[39m.\u001b[39mformat(\n\u001b[1;32m     69\u001b[0m             artifact_uri, \u001b[39mlist\u001b[39m(\u001b[39mself\u001b[39m\u001b[39m.\u001b[39m_registry\u001b[39m.\u001b[39mkeys())\n\u001b[1;32m     70\u001b[0m         )\n\u001b[1;32m     71\u001b[0m     )\n\u001b[0;32m---> 72\u001b[0m \u001b[39mreturn\u001b[39;00m repository(artifact_uri)\n",
      "File \u001b[0;32m~/anaconda3/lib/python3.10/site-packages/mlflow/store/artifact/runs_artifact_repo.py:26\u001b[0m, in \u001b[0;36mRunsArtifactRepository.__init__\u001b[0;34m(self, artifact_uri)\u001b[0m\n\u001b[1;32m     23\u001b[0m \u001b[39mfrom\u001b[39;00m \u001b[39mmlflow\u001b[39;00m\u001b[39m.\u001b[39;00m\u001b[39mstore\u001b[39;00m\u001b[39m.\u001b[39;00m\u001b[39martifact\u001b[39;00m\u001b[39m.\u001b[39;00m\u001b[39martifact_repository_registry\u001b[39;00m \u001b[39mimport\u001b[39;00m get_artifact_repository\n\u001b[1;32m     25\u001b[0m \u001b[39msuper\u001b[39m()\u001b[39m.\u001b[39m\u001b[39m__init__\u001b[39m(artifact_uri)\n\u001b[0;32m---> 26\u001b[0m uri \u001b[39m=\u001b[39m RunsArtifactRepository\u001b[39m.\u001b[39;49mget_underlying_uri(artifact_uri)\n\u001b[1;32m     27\u001b[0m \u001b[39mself\u001b[39m\u001b[39m.\u001b[39mrepo \u001b[39m=\u001b[39m get_artifact_repository(uri)\n",
      "File \u001b[0;32m~/anaconda3/lib/python3.10/site-packages/mlflow/store/artifact/runs_artifact_repo.py:39\u001b[0m, in \u001b[0;36mRunsArtifactRepository.get_underlying_uri\u001b[0;34m(runs_uri)\u001b[0m\n\u001b[1;32m     37\u001b[0m (run_id, artifact_path) \u001b[39m=\u001b[39m RunsArtifactRepository\u001b[39m.\u001b[39mparse_runs_uri(runs_uri)\n\u001b[1;32m     38\u001b[0m tracking_uri \u001b[39m=\u001b[39m get_databricks_profile_uri_from_artifact_uri(runs_uri)\n\u001b[0;32m---> 39\u001b[0m uri \u001b[39m=\u001b[39m get_artifact_uri(run_id, artifact_path, tracking_uri)\n\u001b[1;32m     40\u001b[0m \u001b[39massert\u001b[39;00m \u001b[39mnot\u001b[39;00m RunsArtifactRepository\u001b[39m.\u001b[39mis_runs_uri(uri)  \u001b[39m# avoid an infinite loop\u001b[39;00m\n\u001b[1;32m     41\u001b[0m \u001b[39mreturn\u001b[39;00m add_databricks_profile_info_to_artifact_uri(uri, tracking_uri)\n",
      "File \u001b[0;32m~/anaconda3/lib/python3.10/site-packages/mlflow/tracking/artifact_utils.py:47\u001b[0m, in \u001b[0;36mget_artifact_uri\u001b[0;34m(run_id, artifact_path, tracking_uri)\u001b[0m\n\u001b[1;32m     41\u001b[0m     \u001b[39mraise\u001b[39;00m MlflowException(\n\u001b[1;32m     42\u001b[0m         message\u001b[39m=\u001b[39m\u001b[39m\"\u001b[39m\u001b[39mA run_id must be specified in order to obtain an artifact uri!\u001b[39m\u001b[39m\"\u001b[39m,\n\u001b[1;32m     43\u001b[0m         error_code\u001b[39m=\u001b[39mINVALID_PARAMETER_VALUE,\n\u001b[1;32m     44\u001b[0m     )\n\u001b[1;32m     46\u001b[0m store \u001b[39m=\u001b[39m _get_store(tracking_uri)\n\u001b[0;32m---> 47\u001b[0m run \u001b[39m=\u001b[39m store\u001b[39m.\u001b[39;49mget_run(run_id)\n\u001b[1;32m     48\u001b[0m \u001b[39m# Maybe move this method to RunsArtifactRepository so the circular dependency is clearer.\u001b[39;00m\n\u001b[1;32m     49\u001b[0m \u001b[39massert\u001b[39;00m urllib\u001b[39m.\u001b[39mparse\u001b[39m.\u001b[39murlparse(run\u001b[39m.\u001b[39minfo\u001b[39m.\u001b[39martifact_uri)\u001b[39m.\u001b[39mscheme \u001b[39m!=\u001b[39m \u001b[39m\"\u001b[39m\u001b[39mruns\u001b[39m\u001b[39m\"\u001b[39m  \u001b[39m# avoid an infinite loop\u001b[39;00m\n",
      "File \u001b[0;32m~/anaconda3/lib/python3.10/site-packages/mlflow/store/tracking/file_store.py:634\u001b[0m, in \u001b[0;36mFileStore.get_run\u001b[0;34m(self, run_id)\u001b[0m\n\u001b[1;32m    630\u001b[0m \u001b[39m\"\"\"\u001b[39;00m\n\u001b[1;32m    631\u001b[0m \u001b[39mNote: Will get both active and deleted runs.\u001b[39;00m\n\u001b[1;32m    632\u001b[0m \u001b[39m\"\"\"\u001b[39;00m\n\u001b[1;32m    633\u001b[0m _validate_run_id(run_id)\n\u001b[0;32m--> 634\u001b[0m run_info \u001b[39m=\u001b[39m \u001b[39mself\u001b[39;49m\u001b[39m.\u001b[39;49m_get_run_info(run_id)\n\u001b[1;32m    635\u001b[0m \u001b[39mif\u001b[39;00m run_info \u001b[39mis\u001b[39;00m \u001b[39mNone\u001b[39;00m:\n\u001b[1;32m    636\u001b[0m     \u001b[39mraise\u001b[39;00m MlflowException(\n\u001b[1;32m    637\u001b[0m         \u001b[39m\"\u001b[39m\u001b[39mRun \u001b[39m\u001b[39m'\u001b[39m\u001b[39m%s\u001b[39;00m\u001b[39m'\u001b[39m\u001b[39m metadata is in invalid state.\u001b[39m\u001b[39m\"\u001b[39m \u001b[39m%\u001b[39m run_id, databricks_pb2\u001b[39m.\u001b[39mINVALID_STATE\n\u001b[1;32m    638\u001b[0m     )\n",
      "File \u001b[0;32m~/anaconda3/lib/python3.10/site-packages/mlflow/store/tracking/file_store.py:660\u001b[0m, in \u001b[0;36mFileStore._get_run_info\u001b[0;34m(self, run_uuid)\u001b[0m\n\u001b[1;32m    656\u001b[0m \u001b[39mif\u001b[39;00m run_dir \u001b[39mis\u001b[39;00m \u001b[39mNone\u001b[39;00m:\n\u001b[1;32m    657\u001b[0m     \u001b[39mraise\u001b[39;00m MlflowException(\n\u001b[1;32m    658\u001b[0m         \u001b[39m\"\u001b[39m\u001b[39mRun \u001b[39m\u001b[39m'\u001b[39m\u001b[39m%s\u001b[39;00m\u001b[39m'\u001b[39m\u001b[39m not found\u001b[39m\u001b[39m\"\u001b[39m \u001b[39m%\u001b[39m run_uuid, databricks_pb2\u001b[39m.\u001b[39mRESOURCE_DOES_NOT_EXIST\n\u001b[1;32m    659\u001b[0m     )\n\u001b[0;32m--> 660\u001b[0m run_info \u001b[39m=\u001b[39m \u001b[39mself\u001b[39;49m\u001b[39m.\u001b[39;49m_get_run_info_from_dir(run_dir)\n\u001b[1;32m    661\u001b[0m \u001b[39mif\u001b[39;00m run_info\u001b[39m.\u001b[39mexperiment_id \u001b[39m!=\u001b[39m exp_id:\n\u001b[1;32m    662\u001b[0m     \u001b[39mraise\u001b[39;00m MlflowException(\n\u001b[1;32m    663\u001b[0m         \u001b[39m\"\u001b[39m\u001b[39mRun \u001b[39m\u001b[39m'\u001b[39m\u001b[39m%s\u001b[39;00m\u001b[39m'\u001b[39m\u001b[39m metadata is in invalid state.\u001b[39m\u001b[39m\"\u001b[39m \u001b[39m%\u001b[39m run_uuid, databricks_pb2\u001b[39m.\u001b[39mINVALID_STATE\n\u001b[1;32m    664\u001b[0m     )\n",
      "File \u001b[0;32m~/anaconda3/lib/python3.10/site-packages/mlflow/store/tracking/file_store.py:668\u001b[0m, in \u001b[0;36mFileStore._get_run_info_from_dir\u001b[0;34m(self, run_dir)\u001b[0m\n\u001b[1;32m    667\u001b[0m \u001b[39mdef\u001b[39;00m \u001b[39m_get_run_info_from_dir\u001b[39m(\u001b[39mself\u001b[39m, run_dir):\n\u001b[0;32m--> 668\u001b[0m     meta \u001b[39m=\u001b[39m FileStore\u001b[39m.\u001b[39;49m_read_yaml(run_dir, FileStore\u001b[39m.\u001b[39;49mMETA_DATA_FILE_NAME)\n\u001b[1;32m    669\u001b[0m     run_info \u001b[39m=\u001b[39m _read_persisted_run_info_dict(meta)\n\u001b[1;32m    670\u001b[0m     \u001b[39mreturn\u001b[39;00m run_info\n",
      "File \u001b[0;32m~/anaconda3/lib/python3.10/site-packages/mlflow/store/tracking/file_store.py:1083\u001b[0m, in \u001b[0;36mFileStore._read_yaml\u001b[0;34m(root, file_name, retries)\u001b[0m\n\u001b[1;32m   1080\u001b[0m         time\u001b[39m.\u001b[39msleep(\u001b[39m0.1\u001b[39m \u001b[39m*\u001b[39m (\u001b[39m3\u001b[39m \u001b[39m-\u001b[39m attempts_remaining))\n\u001b[1;32m   1081\u001b[0m         \u001b[39mreturn\u001b[39;00m _read_helper(root, file_name, attempts_remaining \u001b[39m-\u001b[39m \u001b[39m1\u001b[39m)\n\u001b[0;32m-> 1083\u001b[0m \u001b[39mreturn\u001b[39;00m _read_helper(root, file_name, attempts_remaining\u001b[39m=\u001b[39;49mretries)\n",
      "File \u001b[0;32m~/anaconda3/lib/python3.10/site-packages/mlflow/store/tracking/file_store.py:1076\u001b[0m, in \u001b[0;36mFileStore._read_yaml.<locals>._read_helper\u001b[0;34m(root, file_name, attempts_remaining)\u001b[0m\n\u001b[1;32m   1075\u001b[0m \u001b[39mdef\u001b[39;00m \u001b[39m_read_helper\u001b[39m(root, file_name, attempts_remaining\u001b[39m=\u001b[39m\u001b[39m2\u001b[39m):\n\u001b[0;32m-> 1076\u001b[0m     result \u001b[39m=\u001b[39m read_yaml(root, file_name)\n\u001b[1;32m   1077\u001b[0m     \u001b[39mif\u001b[39;00m result \u001b[39mis\u001b[39;00m \u001b[39mnot\u001b[39;00m \u001b[39mNone\u001b[39;00m \u001b[39mor\u001b[39;00m attempts_remaining \u001b[39m==\u001b[39m \u001b[39m0\u001b[39m:\n\u001b[1;32m   1078\u001b[0m         \u001b[39mreturn\u001b[39;00m result\n",
      "File \u001b[0;32m~/anaconda3/lib/python3.10/site-packages/mlflow/utils/file_utils.py:214\u001b[0m, in \u001b[0;36mread_yaml\u001b[0;34m(root, file_name)\u001b[0m\n\u001b[1;32m    212\u001b[0m file_path \u001b[39m=\u001b[39m os\u001b[39m.\u001b[39mpath\u001b[39m.\u001b[39mjoin(root, file_name)\n\u001b[1;32m    213\u001b[0m \u001b[39mif\u001b[39;00m \u001b[39mnot\u001b[39;00m exists(file_path):\n\u001b[0;32m--> 214\u001b[0m     \u001b[39mraise\u001b[39;00m MissingConfigException(\u001b[39m\"\u001b[39m\u001b[39mYaml file \u001b[39m\u001b[39m'\u001b[39m\u001b[39m%s\u001b[39;00m\u001b[39m'\u001b[39m\u001b[39m does not exist.\u001b[39m\u001b[39m\"\u001b[39m \u001b[39m%\u001b[39m file_path)\n\u001b[1;32m    215\u001b[0m \u001b[39mtry\u001b[39;00m:\n\u001b[1;32m    216\u001b[0m     \u001b[39mwith\u001b[39;00m codecs\u001b[39m.\u001b[39mopen(file_path, mode\u001b[39m=\u001b[39m\u001b[39m\"\u001b[39m\u001b[39mr\u001b[39m\u001b[39m\"\u001b[39m, encoding\u001b[39m=\u001b[39mENCODING) \u001b[39mas\u001b[39;00m yaml_file:\n",
      "\u001b[0;31mMissingConfigException\u001b[0m: Yaml file '/home/ubuntu/mlops/mlruns/2/443595f2244e486fb7bed5bd3f3001cd/meta.yaml' does not exist."
     ]
    }
   ],
   "source": [
    "import mlflow\n",
    "logged_model = 'runs:/443595f2244e486fb7bed5bd3f3001cd/models_nyc_dur_pred'\n",
    "\n",
    "# Load model as a PyFuncModel.\n",
    "loaded_model = mlflow.pyfunc.load_model(logged_model)"
   ]
  },
  {
   "cell_type": "code",
   "execution_count": 52,
   "metadata": {},
   "outputs": [],
   "source": [
    "from sklearn.metrics import mean_squared_error\n",
    "import pandas as pd\n",
    "\n",
    "\n",
    "def read_dataframe(filename):\n",
    "    df = pd.read_parquet(filename)\n",
    "\n",
    "    df.lpep_dropoff_datetime = pd.to_datetime(df.lpep_dropoff_datetime)\n",
    "    df.lpep_pickup_datetime = pd.to_datetime(df.lpep_pickup_datetime)\n",
    "\n",
    "    df['duration'] = df.lpep_dropoff_datetime - df.lpep_pickup_datetime\n",
    "    df.duration = df.duration.apply(lambda td: td.total_seconds() / 60)\n",
    "\n",
    "    df = df[(df.duration >= 1) & (df.duration <= 60)]\n",
    "\n",
    "    categorical = ['PULocationID', 'DOLocationID']\n",
    "    df[categorical] = df[categorical].astype(str)\n",
    "    \n",
    "    return df\n",
    "\n",
    "\n",
    "def preprocess(df, dv):\n",
    "    df['PU_DO'] = df['PULocationID'] + '_' + df['DOLocationID']\n",
    "    categorical = ['PU_DO']\n",
    "    numerical = ['trip_distance']\n",
    "    train_dicts = df[categorical + numerical].to_dict(orient='records')\n",
    "    return dv.transform(train_dicts)\n",
    "\n",
    "\n",
    "def test_model(name, stage, X_test, y_test):\n",
    "    model = mlflow.pyfunc.load_model(f\"models:/{name}/{stage}\")\n",
    "    y_pred = model.predict(X_test)\n",
    "    return {\"rmse\": mean_squared_error(y_test, y_pred, squared=False)}\n"
   ]
  },
  {
   "cell_type": "code",
   "execution_count": 53,
   "metadata": {},
   "outputs": [],
   "source": [
    "df = read_dataframe(\"./dataset/green_tripdata_2022-11.parquet\")"
   ]
  },
  {
   "cell_type": "code",
   "execution_count": 54,
   "metadata": {},
   "outputs": [],
   "source": [
    "import pickle\n",
    "\n",
    "with open(\"models/dv_nyc_taxi.bin\", \"rb\") as f_in:\n",
    "    dv = pickle.load(f_in)"
   ]
  },
  {
   "cell_type": "code",
   "execution_count": 55,
   "metadata": {},
   "outputs": [],
   "source": [
    "X_test = preprocess(df, dv)\n",
    "target = \"duration\"\n",
    "y_test = df[target].values"
   ]
  },
  {
   "cell_type": "code",
   "execution_count": 56,
   "metadata": {},
   "outputs": [
    {
     "name": "stdout",
     "output_type": "stream",
     "text": [
      "CPU times: user 1.56 s, sys: 124 ms, total: 1.68 s\n",
      "Wall time: 1.68 s\n"
     ]
    },
    {
     "data": {
      "text/plain": [
       "{'rmse': 3467.0034080630744}"
      ]
     },
     "execution_count": 56,
     "metadata": {},
     "output_type": "execute_result"
    }
   ],
   "source": [
    "%time test_model(name=model_name, stage=\"Production\", X_test=X_test, y_test=y_test)"
   ]
  },
  {
   "cell_type": "code",
   "execution_count": 57,
   "metadata": {},
   "outputs": [
    {
     "name": "stdout",
     "output_type": "stream",
     "text": [
      "CPU times: user 30.7 ms, sys: 0 ns, total: 30.7 ms\n",
      "Wall time: 29.7 ms\n"
     ]
    },
    {
     "data": {
      "text/plain": [
       "{'rmse': 3476.8452675803806}"
      ]
     },
     "execution_count": 57,
     "metadata": {},
     "output_type": "execute_result"
    }
   ],
   "source": [
    "%time test_model(name=model_name, stage=\"Staging\", X_test=X_test, y_test=y_test)"
   ]
  },
  {
   "cell_type": "code",
   "execution_count": 58,
   "metadata": {},
   "outputs": [
    {
     "data": {
      "text/plain": [
       "<ModelVersion: creation_timestamp=1681272066843, current_stage='Production', description='', last_updated_timestamp=1681278505411, name='nyc-taxi-regressor', run_id='b0d56310fbe24178a254c4d3fcfd4700', run_link='', source='/home/ubuntu/mlops/mlruns/2/b0d56310fbe24178a254c4d3fcfd4700/artifacts/models_nyc_dur_pred', status='READY', status_message=None, tags={}, user_id=None, version=4>"
      ]
     },
     "execution_count": 58,
     "metadata": {},
     "output_type": "execute_result"
    }
   ],
   "source": [
    "client.transition_model_version_stage(\n",
    "    name=model_name,\n",
    "    version=4,\n",
    "    stage=\"Production\",\n",
    "    archive_existing_versions=True\n",
    ")"
   ]
  },
  {
   "cell_type": "code",
   "execution_count": 59,
   "metadata": {},
   "outputs": [
    {
     "data": {
      "text/plain": [
       "'nyc-taxi-regressor'"
      ]
     },
     "execution_count": 59,
     "metadata": {},
     "output_type": "execute_result"
    }
   ],
   "source": [
    "model_name"
   ]
  },
  {
   "cell_type": "code",
   "execution_count": null,
   "metadata": {},
   "outputs": [],
   "source": []
  }
 ],
 "metadata": {
  "kernelspec": {
   "display_name": "base",
   "language": "python",
   "name": "python3"
  },
  "language_info": {
   "codemirror_mode": {
    "name": "ipython",
    "version": 3
   },
   "file_extension": ".py",
   "mimetype": "text/x-python",
   "name": "python",
   "nbconvert_exporter": "python",
   "pygments_lexer": "ipython3",
   "version": "3.10.9"
  },
  "orig_nbformat": 4
 },
 "nbformat": 4,
 "nbformat_minor": 2
}
